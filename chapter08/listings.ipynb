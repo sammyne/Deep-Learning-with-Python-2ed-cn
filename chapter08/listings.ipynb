{
 "cells": [
  {
   "cell_type": "markdown",
   "id": "cb2d397b",
   "metadata": {},
   "source": [
    "# 代码清单 8-6 将图像复制到训练目录、验证目录和测试目录"
   ]
  },
  {
   "cell_type": "code",
   "execution_count": null,
   "id": "9742728b",
   "metadata": {
    "vscode": {
     "languageId": "plaintext"
    }
   },
   "outputs": [],
   "source": [
    "import os, shutil, pathlib\n",
    "\n",
    "original_dir = pathlib.Path(\"/content/train\")\n",
    "new_base_dir = pathlib.Path(\"/content/cats_vs_dogs_small\")\n",
    "\n",
    "\n",
    "def make_subset(subset_name, start_index, end_index):\n",
    "    for category in (\"cat\", \"dog\"):\n",
    "        dir = new_base_dir / subset_name / category\n",
    "        os.makedirs(dir)\n",
    "        fnames = [f\"{category}.{i}.jpg\" for i in range(start_index, end_index)]\n",
    "        for fname in fnames:\n",
    "            shutil.copyfile(src=original_dir / fname, dst=dir / fname)\n",
    "\n",
    "\n",
    "make_subset(\"train\", start_index=0, end_index=1000)\n",
    "make_subset(\"validation\", start_index=1000, end_index=1500)\n",
    "make_subset(\"test\", start_index=1500, end_index=2500)"
   ]
  },
  {
   "cell_type": "markdown",
   "id": "2f4ebd33",
   "metadata": {},
   "source": [
    "# 代码清单 8-26 在测试集上评估模型"
   ]
  },
  {
   "cell_type": "code",
   "execution_count": null,
   "id": "aae5e92f",
   "metadata": {
    "vscode": {
     "languageId": "plaintext"
    }
   },
   "outputs": [],
   "source": [
    "test_model = keras.models.load_model(\"feature_extraction_with_data_augmentation.keras\")\n",
    "test_loss, test_acc = test_model.evaluate(test_dataset)\n",
    "print(f\"Test accuracy: {test_acc:.3f}\")"
   ]
  },
  {
   "cell_type": "code",
   "execution_count": null,
   "id": "2fc14cdd",
   "metadata": {
    "vscode": {
     "languageId": "plaintext"
    }
   },
   "outputs": [],
   "source": [
    "conv_base.summary()"
   ]
  },
  {
   "cell_type": "markdown",
   "id": "7878b9d1",
   "metadata": {},
   "source": [
    "# 代码清单 8-27 冻结除最后 4 层外的所有层"
   ]
  },
  {
   "cell_type": "code",
   "execution_count": null,
   "id": "2f16f96b",
   "metadata": {},
   "outputs": [],
   "source": [
    "conv_base.trainable = True\n",
    "for layer in conv_base.layers[:-4]:\n",
    "  layer.trainable = False"
   ]
  },
  {
   "cell_type": "markdown",
   "id": "a8bbf28a",
   "metadata": {},
   "source": [
    "# 代码清单 8-28 微调模型"
   ]
  },
  {
   "cell_type": "code",
   "execution_count": null,
   "id": "67dda1c4",
   "metadata": {},
   "outputs": [],
   "source": [
    "model.compile(\n",
    "    loss=\"binary_crossentropy\",\n",
    "    optimizer=keras.optimizers.RMSprop(learning_rate=1e-5),\n",
    "    metrics=[\"accuracy\"],\n",
    ")\n",
    "callbacks = [\n",
    "    keras.callbacks.ModelCheckpoint(\n",
    "        filepath=\"fine_tuning.keras\", save_best_only=True, monitor=\"val_loss\"\n",
    "    )\n",
    "]\n",
    "history = model.fit(\n",
    "    train_dataset, epochs=30, validation_data=validation_dataset, callbacks=callbacks\n",
    ")\n",
    "\n",
    "model = keras.models.load_model(\"fine_tuning.keras\")\n",
    "test_loss, test_acc = model.evaluate(test_dataset)\n",
    "print(f\"Test accuracy: {test_acc:.3f}\")"
   ]
  }
 ],
 "metadata": {
  "language_info": {
   "name": "python"
  }
 },
 "nbformat": 4,
 "nbformat_minor": 5
}
